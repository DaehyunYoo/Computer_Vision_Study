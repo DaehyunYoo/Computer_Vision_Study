{
 "cells": [
  {
   "attachments": {},
   "cell_type": "markdown",
   "metadata": {},
   "source": [
    "# Goal\n",
    "- Image pyramid란 이미지를 다양한 해상도로 표현하는 방법이다.\n",
    "- cv.pyrUP() 함수를 사용하여 이미지를 확대하고 cv.pyrDown() 함수를 사용하여 이미지를 축소한다.\n",
    "\n",
    "# Theory\n",
    "이미지를 다른 해상도로 작업해야 하는 경우 이미지 피라미드를 사용할 수 있다. 이미지 피라미드는 이미지의 다양한 해상도를 나타내는 이미지의 컬렉션이다. 이미지 피라미드는 두 가지 유형이 있다.\n",
    "1. Gaussian Pyramid\n",
    "2. Laplacian Pyramid"
   ]
  },
  {
   "cell_type": "code",
   "execution_count": null,
   "metadata": {},
   "outputs": [],
   "source": [
    "import cv2 as cv\n",
    "import numpy as np\n",
    "import matplotlib.pyplot as plt\n",
    "\n",
    "img = cv.imread('Images/messi5.jpg')\n",
    "assert img is not None, \"file could not be read, check with os.path.exists()\"\n",
    "lower_reso = cv.pyrDown(higher_reso)\n"
   ]
  }
 ],
 "metadata": {
  "language_info": {
   "name": "python"
  },
  "orig_nbformat": 4
 },
 "nbformat": 4,
 "nbformat_minor": 2
}
